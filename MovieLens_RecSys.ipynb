{
 "cells": [
  {
   "cell_type": "markdown",
   "metadata": {},
   "source": [
    "## 데이터 준비"
   ]
  },
  {
   "cell_type": "code",
   "execution_count": 2,
   "metadata": {},
   "outputs": [],
   "source": [
    "import pandas as pd\n",
    "import numpy as np\n",
    "import seaborn as sns\n",
    "from scipy.sparse import csr_matrix\n",
    "from implicit.als import AlternatingLeastSquares\n",
    "\n",
    "import os"
   ]
  },
  {
   "cell_type": "code",
   "execution_count": 3,
   "metadata": {},
   "outputs": [
    {
     "data": {
      "text/html": [
       "<div>\n",
       "<style scoped>\n",
       "    .dataframe tbody tr th:only-of-type {\n",
       "        vertical-align: middle;\n",
       "    }\n",
       "\n",
       "    .dataframe tbody tr th {\n",
       "        vertical-align: top;\n",
       "    }\n",
       "\n",
       "    .dataframe thead th {\n",
       "        text-align: right;\n",
       "    }\n",
       "</style>\n",
       "<table border=\"1\" class=\"dataframe\">\n",
       "  <thead>\n",
       "    <tr style=\"text-align: right;\">\n",
       "      <th></th>\n",
       "      <th>user_id</th>\n",
       "      <th>movie_id</th>\n",
       "      <th>rating</th>\n",
       "      <th>timestamp</th>\n",
       "    </tr>\n",
       "  </thead>\n",
       "  <tbody>\n",
       "    <tr>\n",
       "      <th>0</th>\n",
       "      <td>1</td>\n",
       "      <td>1193</td>\n",
       "      <td>5</td>\n",
       "      <td>978300760</td>\n",
       "    </tr>\n",
       "    <tr>\n",
       "      <th>1</th>\n",
       "      <td>1</td>\n",
       "      <td>661</td>\n",
       "      <td>3</td>\n",
       "      <td>978302109</td>\n",
       "    </tr>\n",
       "    <tr>\n",
       "      <th>2</th>\n",
       "      <td>1</td>\n",
       "      <td>914</td>\n",
       "      <td>3</td>\n",
       "      <td>978301968</td>\n",
       "    </tr>\n",
       "    <tr>\n",
       "      <th>3</th>\n",
       "      <td>1</td>\n",
       "      <td>3408</td>\n",
       "      <td>4</td>\n",
       "      <td>978300275</td>\n",
       "    </tr>\n",
       "    <tr>\n",
       "      <th>4</th>\n",
       "      <td>1</td>\n",
       "      <td>2355</td>\n",
       "      <td>5</td>\n",
       "      <td>978824291</td>\n",
       "    </tr>\n",
       "  </tbody>\n",
       "</table>\n",
       "</div>"
      ],
      "text/plain": [
       "   user_id  movie_id  rating  timestamp\n",
       "0        1      1193       5  978300760\n",
       "1        1       661       3  978302109\n",
       "2        1       914       3  978301968\n",
       "3        1      3408       4  978300275\n",
       "4        1      2355       5  978824291"
      ]
     },
     "execution_count": 3,
     "metadata": {},
     "output_type": "execute_result"
    }
   ],
   "source": [
    "rating_file_path=os.getenv('HOME') + '/aiffel/recommendata_iu/data/ml-1m/ratings.dat'\n",
    "ratings_cols = ['user_id', 'movie_id', 'rating', 'timestamp']\n",
    "ratings = pd.read_csv(rating_file_path, sep='::', names=ratings_cols, engine='python')\n",
    "orginal_data_size = len(ratings)\n",
    "ratings.head()"
   ]
  },
  {
   "cell_type": "code",
   "execution_count": 4,
   "metadata": {},
   "outputs": [
    {
     "name": "stdout",
     "output_type": "stream",
     "text": [
      "orginal_data_size: 1000209, filtered_data_size: 836478\n",
      "Ratio of Remaining Data is 83.63%\n"
     ]
    },
    {
     "data": {
      "text/html": [
       "<div>\n",
       "<style scoped>\n",
       "    .dataframe tbody tr th:only-of-type {\n",
       "        vertical-align: middle;\n",
       "    }\n",
       "\n",
       "    .dataframe tbody tr th {\n",
       "        vertical-align: top;\n",
       "    }\n",
       "\n",
       "    .dataframe thead th {\n",
       "        text-align: right;\n",
       "    }\n",
       "</style>\n",
       "<table border=\"1\" class=\"dataframe\">\n",
       "  <thead>\n",
       "    <tr style=\"text-align: right;\">\n",
       "      <th></th>\n",
       "      <th>user_id</th>\n",
       "      <th>movie_id</th>\n",
       "      <th>rating</th>\n",
       "      <th>timestamp</th>\n",
       "    </tr>\n",
       "  </thead>\n",
       "  <tbody>\n",
       "    <tr>\n",
       "      <th>0</th>\n",
       "      <td>1</td>\n",
       "      <td>1193</td>\n",
       "      <td>5</td>\n",
       "      <td>978300760</td>\n",
       "    </tr>\n",
       "    <tr>\n",
       "      <th>1</th>\n",
       "      <td>1</td>\n",
       "      <td>661</td>\n",
       "      <td>3</td>\n",
       "      <td>978302109</td>\n",
       "    </tr>\n",
       "    <tr>\n",
       "      <th>2</th>\n",
       "      <td>1</td>\n",
       "      <td>914</td>\n",
       "      <td>3</td>\n",
       "      <td>978301968</td>\n",
       "    </tr>\n",
       "    <tr>\n",
       "      <th>3</th>\n",
       "      <td>1</td>\n",
       "      <td>3408</td>\n",
       "      <td>4</td>\n",
       "      <td>978300275</td>\n",
       "    </tr>\n",
       "    <tr>\n",
       "      <th>4</th>\n",
       "      <td>1</td>\n",
       "      <td>2355</td>\n",
       "      <td>5</td>\n",
       "      <td>978824291</td>\n",
       "    </tr>\n",
       "  </tbody>\n",
       "</table>\n",
       "</div>"
      ],
      "text/plain": [
       "   user_id  movie_id  rating  timestamp\n",
       "0        1      1193       5  978300760\n",
       "1        1       661       3  978302109\n",
       "2        1       914       3  978301968\n",
       "3        1      3408       4  978300275\n",
       "4        1      2355       5  978824291"
      ]
     },
     "execution_count": 4,
     "metadata": {},
     "output_type": "execute_result"
    }
   ],
   "source": [
    "# 3점 이상만 남깁니다.\n",
    "ratings = ratings[ratings['rating']>=3]\n",
    "filtered_data_size = len(ratings)\n",
    "print(f'orginal_data_size: {orginal_data_size}, filtered_data_size: {filtered_data_size}')\n",
    "print(f'Ratio of Remaining Data is {filtered_data_size / orginal_data_size:.2%}')\n",
    "ratings.head()"
   ]
  },
  {
   "cell_type": "code",
   "execution_count": 5,
   "metadata": {},
   "outputs": [
    {
     "data": {
      "text/html": [
       "<div>\n",
       "<style scoped>\n",
       "    .dataframe tbody tr th:only-of-type {\n",
       "        vertical-align: middle;\n",
       "    }\n",
       "\n",
       "    .dataframe tbody tr th {\n",
       "        vertical-align: top;\n",
       "    }\n",
       "\n",
       "    .dataframe thead th {\n",
       "        text-align: right;\n",
       "    }\n",
       "</style>\n",
       "<table border=\"1\" class=\"dataframe\">\n",
       "  <thead>\n",
       "    <tr style=\"text-align: right;\">\n",
       "      <th></th>\n",
       "      <th>movie_id</th>\n",
       "      <th>title</th>\n",
       "      <th>genre</th>\n",
       "    </tr>\n",
       "  </thead>\n",
       "  <tbody>\n",
       "    <tr>\n",
       "      <th>0</th>\n",
       "      <td>1</td>\n",
       "      <td>Toy Story (1995)</td>\n",
       "      <td>Animation|Children's|Comedy</td>\n",
       "    </tr>\n",
       "    <tr>\n",
       "      <th>1</th>\n",
       "      <td>2</td>\n",
       "      <td>Jumanji (1995)</td>\n",
       "      <td>Adventure|Children's|Fantasy</td>\n",
       "    </tr>\n",
       "    <tr>\n",
       "      <th>2</th>\n",
       "      <td>3</td>\n",
       "      <td>Grumpier Old Men (1995)</td>\n",
       "      <td>Comedy|Romance</td>\n",
       "    </tr>\n",
       "    <tr>\n",
       "      <th>3</th>\n",
       "      <td>4</td>\n",
       "      <td>Waiting to Exhale (1995)</td>\n",
       "      <td>Comedy|Drama</td>\n",
       "    </tr>\n",
       "    <tr>\n",
       "      <th>4</th>\n",
       "      <td>5</td>\n",
       "      <td>Father of the Bride Part II (1995)</td>\n",
       "      <td>Comedy</td>\n",
       "    </tr>\n",
       "  </tbody>\n",
       "</table>\n",
       "</div>"
      ],
      "text/plain": [
       "   movie_id                               title                         genre\n",
       "0         1                    Toy Story (1995)   Animation|Children's|Comedy\n",
       "1         2                      Jumanji (1995)  Adventure|Children's|Fantasy\n",
       "2         3             Grumpier Old Men (1995)                Comedy|Romance\n",
       "3         4            Waiting to Exhale (1995)                  Comedy|Drama\n",
       "4         5  Father of the Bride Part II (1995)                        Comedy"
      ]
     },
     "execution_count": 5,
     "metadata": {},
     "output_type": "execute_result"
    }
   ],
   "source": [
    "# 영화 제목을 보기 위해 메타 데이터를 읽어옵니다.\n",
    "movie_file_path=os.getenv('HOME') + '/aiffel/recommendata_iu/data/ml-1m/movies.dat'\n",
    "cols = ['movie_id', 'title', 'genre'] \n",
    "movies = pd.read_csv(movie_file_path, sep='::', names=cols, engine='python')\n",
    "movies.head(5)"
   ]
  },
  {
   "cell_type": "markdown",
   "metadata": {},
   "source": [
    "## 데이터 분석하기"
   ]
  },
  {
   "cell_type": "code",
   "execution_count": 6,
   "metadata": {},
   "outputs": [
    {
     "name": "stdout",
     "output_type": "stream",
     "text": [
      "ratings에 있는 유니크한 영화 개수: 3628\n",
      "ratings에 있는 유니크한 사용자 수: 6039\n"
     ]
    }
   ],
   "source": [
    "ratings_movie = ratings['movie_id'].nunique()\n",
    "ratings_user = ratings['user_id'].nunique()\n",
    "print(f'ratings에 있는 유니크한 영화 개수: {ratings_movie}')\n",
    "print(f'ratings에 있는 유니크한 사용자 수: {ratings_user}')"
   ]
  },
  {
   "cell_type": "code",
   "execution_count": 7,
   "metadata": {},
   "outputs": [
    {
     "data": {
      "text/html": [
       "<div>\n",
       "<style scoped>\n",
       "    .dataframe tbody tr th:only-of-type {\n",
       "        vertical-align: middle;\n",
       "    }\n",
       "\n",
       "    .dataframe tbody tr th {\n",
       "        vertical-align: top;\n",
       "    }\n",
       "\n",
       "    .dataframe thead th {\n",
       "        text-align: right;\n",
       "    }\n",
       "</style>\n",
       "<table border=\"1\" class=\"dataframe\">\n",
       "  <thead>\n",
       "    <tr style=\"text-align: right;\">\n",
       "      <th></th>\n",
       "      <th>user_id</th>\n",
       "      <th>title</th>\n",
       "      <th>rating</th>\n",
       "    </tr>\n",
       "  </thead>\n",
       "  <tbody>\n",
       "    <tr>\n",
       "      <th>0</th>\n",
       "      <td>1</td>\n",
       "      <td>Toy Story (1995)</td>\n",
       "      <td>5</td>\n",
       "    </tr>\n",
       "    <tr>\n",
       "      <th>1</th>\n",
       "      <td>6</td>\n",
       "      <td>Toy Story (1995)</td>\n",
       "      <td>4</td>\n",
       "    </tr>\n",
       "    <tr>\n",
       "      <th>2</th>\n",
       "      <td>8</td>\n",
       "      <td>Toy Story (1995)</td>\n",
       "      <td>4</td>\n",
       "    </tr>\n",
       "    <tr>\n",
       "      <th>3</th>\n",
       "      <td>9</td>\n",
       "      <td>Toy Story (1995)</td>\n",
       "      <td>5</td>\n",
       "    </tr>\n",
       "    <tr>\n",
       "      <th>4</th>\n",
       "      <td>10</td>\n",
       "      <td>Toy Story (1995)</td>\n",
       "      <td>5</td>\n",
       "    </tr>\n",
       "  </tbody>\n",
       "</table>\n",
       "</div>"
      ],
      "text/plain": [
       "   user_id             title  rating\n",
       "0        1  Toy Story (1995)       5\n",
       "1        6  Toy Story (1995)       4\n",
       "2        8  Toy Story (1995)       4\n",
       "3        9  Toy Story (1995)       5\n",
       "4       10  Toy Story (1995)       5"
      ]
     },
     "execution_count": 7,
     "metadata": {},
     "output_type": "execute_result"
    }
   ],
   "source": [
    "# movies와 ratings를 합쳐준다.\n",
    "data= pd.merge(movies, ratings)\n",
    "using_cols = [ 'user_id','title', 'rating']\n",
    "data = data[using_cols]\n",
    "data.head(5)"
   ]
  },
  {
   "cell_type": "code",
   "execution_count": 8,
   "metadata": {},
   "outputs": [
    {
     "data": {
      "text/plain": [
       "title\n",
       "american beauty (1999)                                   3211\n",
       "star wars: episode iv - a new hope (1977)                2910\n",
       "star wars: episode v - the empire strikes back (1980)    2885\n",
       "star wars: episode vi - return of the jedi (1983)        2716\n",
       "saving private ryan (1998)                               2561\n",
       "terminator 2: judgment day (1991)                        2509\n",
       "silence of the lambs, the (1991)                         2498\n",
       "raiders of the lost ark (1981)                           2473\n",
       "back to the future (1985)                                2460\n",
       "matrix, the (1999)                                       2434\n",
       "Name: user_id, dtype: int64"
      ]
     },
     "execution_count": 8,
     "metadata": {},
     "output_type": "execute_result"
    }
   ],
   "source": [
    "#가장 인기있는 영화 30개(인기순)\n",
    "data['title'] = data['title'].str.lower()\n",
    "movies_count = data.groupby('title')['user_id'].count()\n",
    "movies_count.sort_values(ascending=False).head(10)"
   ]
  },
  {
   "cell_type": "code",
   "execution_count": 9,
   "metadata": {},
   "outputs": [
    {
     "data": {
      "text/plain": [
       "count    6039.000000\n",
       "mean      138.512668\n",
       "std       156.241599\n",
       "min         1.000000\n",
       "25%        38.000000\n",
       "50%        81.000000\n",
       "75%       177.000000\n",
       "max      1968.000000\n",
       "Name: title, dtype: float64"
      ]
     },
     "execution_count": 9,
     "metadata": {},
     "output_type": "execute_result"
    }
   ],
   "source": [
    "# 유저별 몇 편의 영화를 보고 있는지에 대한 통계\n",
    "user_count = data.groupby('user_id')['title'].count()\n",
    "user_count.describe()"
   ]
  },
  {
   "cell_type": "markdown",
   "metadata": {},
   "source": [
    "## 내가 선호하는 영화 추가하기"
   ]
  },
  {
   "cell_type": "code",
   "execution_count": 10,
   "metadata": {},
   "outputs": [
    {
     "data": {
      "text/html": [
       "<div>\n",
       "<style scoped>\n",
       "    .dataframe tbody tr th:only-of-type {\n",
       "        vertical-align: middle;\n",
       "    }\n",
       "\n",
       "    .dataframe tbody tr th {\n",
       "        vertical-align: top;\n",
       "    }\n",
       "\n",
       "    .dataframe thead th {\n",
       "        text-align: right;\n",
       "    }\n",
       "</style>\n",
       "<table border=\"1\" class=\"dataframe\">\n",
       "  <thead>\n",
       "    <tr style=\"text-align: right;\">\n",
       "      <th></th>\n",
       "      <th>rating</th>\n",
       "      <th>title</th>\n",
       "      <th>user_id</th>\n",
       "    </tr>\n",
       "  </thead>\n",
       "  <tbody>\n",
       "    <tr>\n",
       "      <th>836473</th>\n",
       "      <td>3</td>\n",
       "      <td>contender, the (2000)</td>\n",
       "      <td>5682</td>\n",
       "    </tr>\n",
       "    <tr>\n",
       "      <th>836474</th>\n",
       "      <td>4</td>\n",
       "      <td>contender, the (2000)</td>\n",
       "      <td>5812</td>\n",
       "    </tr>\n",
       "    <tr>\n",
       "      <th>836475</th>\n",
       "      <td>3</td>\n",
       "      <td>contender, the (2000)</td>\n",
       "      <td>5831</td>\n",
       "    </tr>\n",
       "    <tr>\n",
       "      <th>836476</th>\n",
       "      <td>4</td>\n",
       "      <td>contender, the (2000)</td>\n",
       "      <td>5837</td>\n",
       "    </tr>\n",
       "    <tr>\n",
       "      <th>836477</th>\n",
       "      <td>4</td>\n",
       "      <td>contender, the (2000)</td>\n",
       "      <td>5998</td>\n",
       "    </tr>\n",
       "    <tr>\n",
       "      <th>0</th>\n",
       "      <td>5</td>\n",
       "      <td>men in black (1997)</td>\n",
       "      <td>kimin</td>\n",
       "    </tr>\n",
       "    <tr>\n",
       "      <th>1</th>\n",
       "      <td>5</td>\n",
       "      <td>fugitive, the (1993)</td>\n",
       "      <td>kimin</td>\n",
       "    </tr>\n",
       "    <tr>\n",
       "      <th>2</th>\n",
       "      <td>5</td>\n",
       "      <td>terminator, the (1984)</td>\n",
       "      <td>kimin</td>\n",
       "    </tr>\n",
       "    <tr>\n",
       "      <th>3</th>\n",
       "      <td>5</td>\n",
       "      <td>back to the future (1985)</td>\n",
       "      <td>kimin</td>\n",
       "    </tr>\n",
       "    <tr>\n",
       "      <th>4</th>\n",
       "      <td>5</td>\n",
       "      <td>forrest gump (1994)</td>\n",
       "      <td>kimin</td>\n",
       "    </tr>\n",
       "  </tbody>\n",
       "</table>\n",
       "</div>"
      ],
      "text/plain": [
       "        rating                      title user_id\n",
       "836473       3      contender, the (2000)    5682\n",
       "836474       4      contender, the (2000)    5812\n",
       "836475       3      contender, the (2000)    5831\n",
       "836476       4      contender, the (2000)    5837\n",
       "836477       4      contender, the (2000)    5998\n",
       "0            5        men in black (1997)   kimin\n",
       "1            5       fugitive, the (1993)   kimin\n",
       "2            5     terminator, the (1984)   kimin\n",
       "3            5  back to the future (1985)   kimin\n",
       "4            5        forrest gump (1994)   kimin"
      ]
     },
     "execution_count": 10,
     "metadata": {},
     "output_type": "execute_result"
    }
   ],
   "source": [
    "my_favor_movie = ['men in black (1997)' , 'fugitive, the (1993)' ,'terminator, the (1984)' ,'back to the future (1985)' ,'forrest gump (1994)']\n",
    "my_playlist = pd.DataFrame({'user_id': ['kimin']*5, 'title': my_favor_movie, 'rating':[5]*5})\n",
    "\n",
    "data = pd.concat([data, my_playlist], sort=True)\n",
    "    \n",
    "data.tail(10)"
   ]
  },
  {
   "cell_type": "markdown",
   "metadata": {},
   "source": [
    "## 전처리하기"
   ]
  },
  {
   "cell_type": "code",
   "execution_count": 11,
   "metadata": {},
   "outputs": [
    {
     "name": "stdout",
     "output_type": "stream",
     "text": [
      "kimin의 index 번호: 6039\n",
      "forrest gump 의 index 번호: 342\n"
     ]
    }
   ],
   "source": [
    "user_unique = data['user_id'].unique()\n",
    "title_unique = data['title'].unique()\n",
    "\n",
    "user_to_idx = {v:k for k,v in enumerate(user_unique)}\n",
    "title_to_idx = {v:k for k,v in enumerate(title_unique)}\n",
    "\n",
    "print('kimin의 index 번호:', user_to_idx['kimin']) \n",
    "print('forrest gump 의 index 번호:', title_to_idx['forrest gump (1994)'])"
   ]
  },
  {
   "cell_type": "code",
   "execution_count": 12,
   "metadata": {
    "scrolled": true
   },
   "outputs": [
    {
     "name": "stdout",
     "output_type": "stream",
     "text": [
      "user_id column indexing OK!!\n",
      "title column indexing OK!!\n"
     ]
    },
    {
     "data": {
      "text/html": [
       "<div>\n",
       "<style scoped>\n",
       "    .dataframe tbody tr th:only-of-type {\n",
       "        vertical-align: middle;\n",
       "    }\n",
       "\n",
       "    .dataframe tbody tr th {\n",
       "        vertical-align: top;\n",
       "    }\n",
       "\n",
       "    .dataframe thead th {\n",
       "        text-align: right;\n",
       "    }\n",
       "</style>\n",
       "<table border=\"1\" class=\"dataframe\">\n",
       "  <thead>\n",
       "    <tr style=\"text-align: right;\">\n",
       "      <th></th>\n",
       "      <th>rating</th>\n",
       "      <th>title</th>\n",
       "      <th>user_id</th>\n",
       "    </tr>\n",
       "  </thead>\n",
       "  <tbody>\n",
       "    <tr>\n",
       "      <th>0</th>\n",
       "      <td>5</td>\n",
       "      <td>0</td>\n",
       "      <td>0</td>\n",
       "    </tr>\n",
       "    <tr>\n",
       "      <th>1</th>\n",
       "      <td>4</td>\n",
       "      <td>0</td>\n",
       "      <td>1</td>\n",
       "    </tr>\n",
       "    <tr>\n",
       "      <th>2</th>\n",
       "      <td>4</td>\n",
       "      <td>0</td>\n",
       "      <td>2</td>\n",
       "    </tr>\n",
       "    <tr>\n",
       "      <th>3</th>\n",
       "      <td>5</td>\n",
       "      <td>0</td>\n",
       "      <td>3</td>\n",
       "    </tr>\n",
       "    <tr>\n",
       "      <th>4</th>\n",
       "      <td>5</td>\n",
       "      <td>0</td>\n",
       "      <td>4</td>\n",
       "    </tr>\n",
       "    <tr>\n",
       "      <th>...</th>\n",
       "      <td>...</td>\n",
       "      <td>...</td>\n",
       "      <td>...</td>\n",
       "    </tr>\n",
       "    <tr>\n",
       "      <th>0</th>\n",
       "      <td>5</td>\n",
       "      <td>1419</td>\n",
       "      <td>6039</td>\n",
       "    </tr>\n",
       "    <tr>\n",
       "      <th>1</th>\n",
       "      <td>5</td>\n",
       "      <td>439</td>\n",
       "      <td>6039</td>\n",
       "    </tr>\n",
       "    <tr>\n",
       "      <th>2</th>\n",
       "      <td>5</td>\n",
       "      <td>1122</td>\n",
       "      <td>6039</td>\n",
       "    </tr>\n",
       "    <tr>\n",
       "      <th>3</th>\n",
       "      <td>5</td>\n",
       "      <td>1152</td>\n",
       "      <td>6039</td>\n",
       "    </tr>\n",
       "    <tr>\n",
       "      <th>4</th>\n",
       "      <td>5</td>\n",
       "      <td>342</td>\n",
       "      <td>6039</td>\n",
       "    </tr>\n",
       "  </tbody>\n",
       "</table>\n",
       "<p>836483 rows × 3 columns</p>\n",
       "</div>"
      ],
      "text/plain": [
       "    rating  title  user_id\n",
       "0        5      0        0\n",
       "1        4      0        1\n",
       "2        4      0        2\n",
       "3        5      0        3\n",
       "4        5      0        4\n",
       "..     ...    ...      ...\n",
       "0        5   1419     6039\n",
       "1        5    439     6039\n",
       "2        5   1122     6039\n",
       "3        5   1152     6039\n",
       "4        5    342     6039\n",
       "\n",
       "[836483 rows x 3 columns]"
      ]
     },
     "execution_count": 12,
     "metadata": {},
     "output_type": "execute_result"
    }
   ],
   "source": [
    "temp_user_data = data['user_id'].map(user_to_idx.get).dropna()\n",
    "if len(temp_user_data) == len(data):   # 모든 row가 정상적으로 인덱싱되었다면\n",
    "    print('user_id column indexing OK!!')\n",
    "    data['user_id'] = temp_user_data \n",
    "else:\n",
    "    print('user_id column indexing Fail!!')\n",
    "    \n",
    "temp_title_data = data['title'].map(title_to_idx.get).dropna()\n",
    "if len(temp_title_data) == len(data):\n",
    "    print('title column indexing OK!!')\n",
    "    data['title'] = temp_title_data\n",
    "else:\n",
    "    print('title column indexing Fail!!')\n",
    "\n",
    "data"
   ]
  },
  {
   "cell_type": "markdown",
   "metadata": {},
   "source": [
    "## CSR matrix 만들기"
   ]
  },
  {
   "cell_type": "code",
   "execution_count": 13,
   "metadata": {},
   "outputs": [
    {
     "name": "stdout",
     "output_type": "stream",
     "text": [
      "0    5\n",
      "1    4\n",
      "2    4\n",
      "3    5\n",
      "4    5\n",
      "    ..\n",
      "0    5\n",
      "1    5\n",
      "2    5\n",
      "3    5\n",
      "4    5\n",
      "Name: rating, Length: 836483, dtype: int64\n"
     ]
    }
   ],
   "source": [
    "data['rating']\n",
    "print(data.rating)"
   ]
  },
  {
   "cell_type": "code",
   "execution_count": 14,
   "metadata": {},
   "outputs": [
    {
     "data": {
      "text/plain": [
       "<6040x3628 sparse matrix of type '<class 'numpy.longlong'>'\n",
       "\twith 836483 stored elements in Compressed Sparse Row format>"
      ]
     },
     "execution_count": 14,
     "metadata": {},
     "output_type": "execute_result"
    }
   ],
   "source": [
    "num_user = data['user_id'].nunique()\n",
    "num_movie = data['title'].nunique()\n",
    "\n",
    "csr_data = csr_matrix((data.rating, (data.user_id, data.title)), \n",
    "                      shape=(num_user, num_movie))\n",
    "csr_data"
   ]
  },
  {
   "cell_type": "markdown",
   "metadata": {},
   "source": [
    "##  AlternatingLeastSquares 모델"
   ]
  },
  {
   "cell_type": "code",
   "execution_count": 15,
   "metadata": {},
   "outputs": [],
   "source": [
    "# implicit 라이브러리에서 권장하고 있는 부분입니다. 학습 내용과는 무관합니다.\n",
    "os.environ['OPENBLAS_NUM_THREADS']='1'\n",
    "os.environ['KMP_DUPLICATE_LIB_OK']='True'\n",
    "os.environ['MKL_NUM_THREADS']='1'"
   ]
  },
  {
   "cell_type": "code",
   "execution_count": 17,
   "metadata": {},
   "outputs": [
    {
     "data": {
      "application/vnd.jupyter.widget-view+json": {
       "model_id": "c581252970404fcfac1fef8fec1ec95b",
       "version_major": 2,
       "version_minor": 0
      },
      "text/plain": [
       "HBox(children=(FloatProgress(value=0.0, max=30.0), HTML(value='')))"
      ]
     },
     "metadata": {},
     "output_type": "display_data"
    },
    {
     "name": "stdout",
     "output_type": "stream",
     "text": [
      "\n"
     ]
    }
   ],
   "source": [
    "als_model = AlternatingLeastSquares(factors=100, regularization=0.01, \n",
    "                                   iterations=30, dtype=np.float32)\n",
    "csr_data_transpose = csr_data.T\n",
    "als_model.fit(csr_data_transpose)"
   ]
  },
  {
   "cell_type": "code",
   "execution_count": 20,
   "metadata": {},
   "outputs": [],
   "source": [
    "kimin, back_future = user_to_idx['kimin'], title_to_idx['back to the future (1985)']\n",
    "kimin_vector, back_future_vector = als_model.user_factors[kimin], als_model.item_factors[back_future]"
   ]
  },
  {
   "cell_type": "code",
   "execution_count": 19,
   "metadata": {},
   "outputs": [
    {
     "data": {
      "text/plain": [
       "array([ 0.32725337,  0.46704096,  0.3601165 ,  0.08476339, -0.62813365,\n",
       "       -0.16452338,  0.12036967, -0.07353739,  0.17817178,  0.6810431 ,\n",
       "       -0.6617621 ,  0.7172151 , -0.22007641, -0.06624185,  0.04734982,\n",
       "        0.7880284 ,  0.5529376 , -0.5837886 , -0.5205703 , -0.03517917,\n",
       "        0.7480841 , -0.74441826, -0.15154919,  0.07642394, -0.45291698,\n",
       "       -0.383498  ,  0.5433273 , -0.46065077, -0.36616284,  0.1430307 ,\n",
       "        0.3898874 ,  0.49043894,  0.3882472 ,  0.3260817 , -0.7980312 ,\n",
       "        0.5651583 ,  0.14214188, -0.94524336, -0.61093086,  0.63193226,\n",
       "        0.04822527,  0.1572215 , -0.18570226,  0.6433806 , -0.25215244,\n",
       "        0.40647346,  1.0391612 ,  0.55173177,  0.44879565, -0.10444115,\n",
       "       -0.3531667 ,  0.02185513, -0.6492503 , -0.6074436 ,  0.0275471 ,\n",
       "       -0.47011158,  0.5340451 , -0.54522806,  0.08179111, -0.47947153,\n",
       "        0.20876805,  0.1945253 ,  0.4928832 , -0.13175339, -0.25978595,\n",
       "        0.41144344,  0.22034125,  0.21988942, -0.5413961 , -0.43851867,\n",
       "        0.07909372, -0.26502275,  0.2348794 , -0.24888259, -0.20681947,\n",
       "        0.44430453,  0.34059235,  0.5840181 ,  0.35945714,  0.10614084,\n",
       "       -0.10178552, -0.5655414 ,  0.00602036, -0.45943525, -0.74246085,\n",
       "        0.6151231 ,  0.32915482, -0.07165242, -0.17460775, -0.63582164,\n",
       "       -0.35048047, -0.11084462,  0.37410897, -0.3081607 ,  0.06780789,\n",
       "        0.5050808 ,  0.15276265, -0.06599969,  0.06143324,  0.34545344],\n",
       "      dtype=float32)"
      ]
     },
     "execution_count": 19,
     "metadata": {},
     "output_type": "execute_result"
    }
   ],
   "source": [
    "kimin_vector"
   ]
  },
  {
   "cell_type": "code",
   "execution_count": 21,
   "metadata": {},
   "outputs": [
    {
     "data": {
      "text/plain": [
       "array([-7.40955444e-03,  5.84189892e-02, -1.46386703e-03,  9.84407612e-04,\n",
       "       -8.95474479e-03,  2.50771847e-02,  1.47968449e-03,  2.72427406e-03,\n",
       "       -4.20604227e-03,  1.31540559e-02, -2.93520074e-02,  3.00687551e-03,\n",
       "       -6.77027914e-04,  1.93653461e-02,  6.23673154e-03,  2.67176535e-02,\n",
       "        1.69822462e-02,  1.18038068e-02, -2.72943769e-02,  1.05355354e-02,\n",
       "        3.41869071e-02, -4.33712918e-03,  3.20674218e-02, -3.32206138e-03,\n",
       "        2.10608449e-03, -2.57191854e-03,  4.60849665e-02, -4.39683832e-02,\n",
       "       -2.35103089e-02,  4.57744393e-03,  1.66120995e-02,  1.02578187e-02,\n",
       "        2.28685085e-02, -1.37284473e-02, -1.10420296e-02,  1.15731936e-02,\n",
       "        1.81657262e-02, -3.74217518e-02,  1.93092488e-02,  5.42104580e-02,\n",
       "       -1.26651255e-02, -6.27271691e-03,  8.51532910e-03,  1.52287018e-02,\n",
       "        1.61138941e-02,  2.38668174e-02,  4.08922993e-02,  5.86544126e-02,\n",
       "        2.04588473e-02, -2.42098365e-02, -2.54511461e-02,  3.28882076e-02,\n",
       "       -2.41123829e-02, -2.43384261e-02, -5.86222857e-03,  9.46115982e-03,\n",
       "        2.34547406e-02, -1.25060380e-02,  6.04029326e-03, -3.74999736e-03,\n",
       "        2.46187625e-03,  2.59678923e-02,  5.03332578e-02,  1.11826500e-02,\n",
       "        8.68918281e-03, -1.10691702e-02, -1.39057065e-05,  2.90015060e-03,\n",
       "        2.83823046e-03, -1.88922212e-02, -9.70131252e-04, -1.75534468e-02,\n",
       "        6.23945903e-04, -5.25898347e-03, -2.19089221e-02,  1.90863758e-02,\n",
       "        9.24651232e-03,  7.08379373e-02,  3.81576121e-02,  5.39659671e-02,\n",
       "        1.90995391e-02, -3.76977143e-04, -1.58035418e-03, -5.44835720e-03,\n",
       "        1.56459808e-02,  2.05493793e-02,  4.66107503e-02,  2.37826426e-02,\n",
       "       -1.36219459e-02,  3.02127888e-03, -1.69595014e-02, -4.36708406e-02,\n",
       "        2.33562514e-02, -2.81640142e-02, -6.51136925e-03,  7.09425705e-03,\n",
       "        7.77907064e-03,  6.30715210e-03,  4.37347405e-02,  7.00680725e-03],\n",
       "      dtype=float32)"
      ]
     },
     "execution_count": 21,
     "metadata": {},
     "output_type": "execute_result"
    }
   ],
   "source": [
    "back_future_vector"
   ]
  },
  {
   "cell_type": "code",
   "execution_count": 22,
   "metadata": {},
   "outputs": [
    {
     "data": {
      "text/plain": [
       "0.58377063"
      ]
     },
     "execution_count": 22,
     "metadata": {},
     "output_type": "execute_result"
    }
   ],
   "source": [
    "np.dot(kimin_vector, back_to_the_future_vector)"
   ]
  },
  {
   "cell_type": "code",
   "execution_count": 23,
   "metadata": {},
   "outputs": [
    {
     "data": {
      "text/plain": [
       "0.20463058"
      ]
     },
     "execution_count": 23,
     "metadata": {},
     "output_type": "execute_result"
    }
   ],
   "source": [
    "toy = title_to_idx['toy story (1995)']\n",
    "toy_vector = als_model.item_factors[toy]\n",
    "np.dot(kimin_vector, toy_vector)"
   ]
  },
  {
   "cell_type": "markdown",
   "metadata": {},
   "source": [
    "## 영화 추천받기"
   ]
  },
  {
   "cell_type": "code",
   "execution_count": 24,
   "metadata": {},
   "outputs": [],
   "source": [
    "idx_to_title = {v:k for k,v in title_to_idx.items()}\n",
    "\n",
    "def get_similar_title(title_name: str):\n",
    "    title_id = title_to_idx[title_name]\n",
    "    similar_title = als_model.similar_items(title_id)\n",
    "    similar_title = [idx_to_title[i[0]] for i in similar_title]\n",
    "    return similar_title"
   ]
  },
  {
   "cell_type": "code",
   "execution_count": 25,
   "metadata": {},
   "outputs": [
    {
     "data": {
      "text/plain": [
       "['men in black (1997)',\n",
       " 'jurassic park (1993)',\n",
       " 'terminator 2: judgment day (1991)',\n",
       " 'total recall (1990)',\n",
       " 'independence day (id4) (1996)',\n",
       " 'matrix, the (1999)',\n",
       " 'fifth element, the (1997)',\n",
       " 'lost world: jurassic park, the (1997)',\n",
       " 'galaxy quest (1999)',\n",
       " 'face/off (1997)']"
      ]
     },
     "execution_count": 25,
     "metadata": {},
     "output_type": "execute_result"
    }
   ],
   "source": [
    "get_similar_title('men in black (1997)')"
   ]
  },
  {
   "cell_type": "code",
   "execution_count": 26,
   "metadata": {},
   "outputs": [
    {
     "data": {
      "text/plain": [
       "['toy story (1995)',\n",
       " 'toy story 2 (1999)',\n",
       " \"bug's life, a (1998)\",\n",
       " 'aladdin (1992)',\n",
       " 'babe (1995)',\n",
       " 'groundhog day (1993)',\n",
       " 'lion king, the (1994)',\n",
       " 'beauty and the beast (1991)',\n",
       " \"there's something about mary (1998)\",\n",
       " 'pleasantville (1998)']"
      ]
     },
     "execution_count": 26,
     "metadata": {},
     "output_type": "execute_result"
    }
   ],
   "source": [
    "get_similar_title('toy story (1995)')"
   ]
  },
  {
   "cell_type": "code",
   "execution_count": 27,
   "metadata": {},
   "outputs": [
    {
     "data": {
      "text/plain": [
       "['back to the future (1985)',\n",
       " \"ferris bueller's day off (1986)\",\n",
       " 'when harry met sally... (1989)',\n",
       " 'back to the future part ii (1989)',\n",
       " 'big (1988)',\n",
       " 'ghostbusters (1984)',\n",
       " 'bull durham (1988)',\n",
       " 'fish called wanda, a (1988)',\n",
       " 'airplane! (1980)',\n",
       " 'cocoon (1985)']"
      ]
     },
     "execution_count": 27,
     "metadata": {},
     "output_type": "execute_result"
    }
   ],
   "source": [
    "get_similar_title('back to the future (1985)')"
   ]
  },
  {
   "cell_type": "code",
   "execution_count": 28,
   "metadata": {},
   "outputs": [
    {
     "name": "stdout",
     "output_type": "stream",
     "text": [
      "terminator 2: judgment day (1991) 0000.636\n",
      "jurassic park (1993) 0000.564\n",
      "matrix, the (1999) 0000.537\n",
      "star wars: episode vi - return of the jedi (1983) 0000.442\n",
      "total recall (1990) 0000.401\n",
      "braveheart (1995) 0000.365\n",
      "groundhog day (1993) 0000.338\n",
      "sixth sense, the (1999) 0000.333\n",
      "die hard (1988) 0000.327\n",
      "hunt for red october, the (1990) 0000.316\n",
      "saving private ryan (1998) 0000.314\n",
      "star wars: episode v - the empire strikes back (1980) 0000.313\n",
      "speed (1994) 0000.271\n",
      "aliens (1986) 0000.251\n",
      "star wars: episode iv - a new hope (1977) 0000.250\n",
      "silence of the lambs, the (1991) 0000.233\n",
      "airplane! (1980) 0000.232\n",
      "independence day (id4) (1996) 0000.227\n",
      "toy story (1995) 0000.205\n",
      "galaxy quest (1999) 0000.203\n"
     ]
    }
   ],
   "source": [
    "user = user_to_idx['kimin']\n",
    "# recommend에서는 user*item CSR Matrix를 받습니다.\n",
    "title_recommended = als_model.recommend(user, csr_data, N=20, filter_already_liked_items=True)\n",
    "for i in title_recommended: \n",
    "    print(\"{} {:08.3f}\".format(idx_to_title[i[0]], i[1]))"
   ]
  },
  {
   "cell_type": "code",
   "execution_count": 29,
   "metadata": {},
   "outputs": [
    {
     "data": {
      "text/plain": [
       "[('terminator, the (1984)', 0.21670287769375524),\n",
       " ('fugitive, the (1993)', 0.1549119046321933),\n",
       " ('back to the future (1985)', 0.03818649718753686),\n",
       " ('forrest gump (1994)', -0.021093030831221167),\n",
       " ('men in black (1997)', -0.06425605290505357)]"
      ]
     },
     "execution_count": 29,
     "metadata": {},
     "output_type": "execute_result"
    }
   ],
   "source": [
    "rihanna = title_to_idx['die hard (1988)']\n",
    "explain = als_model.explain(user, csr_data, itemid=rihanna)\n",
    "[(idx_to_title[i[0]], i[1]) for i in explain[1]]"
   ]
  }
 ],
 "metadata": {
  "kernelspec": {
   "display_name": "aiffel",
   "language": "python",
   "name": "aiffel"
  },
  "language_info": {
   "codemirror_mode": {
    "name": "ipython",
    "version": 3
   },
   "file_extension": ".py",
   "mimetype": "text/x-python",
   "name": "python",
   "nbconvert_exporter": "python",
   "pygments_lexer": "ipython3",
   "version": "3.7.6"
  }
 },
 "nbformat": 4,
 "nbformat_minor": 4
}
