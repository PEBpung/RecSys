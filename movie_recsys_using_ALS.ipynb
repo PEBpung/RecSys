{
 "cells": [
  {
   "cell_type": "markdown",
   "metadata": {},
   "source": [
    "## 데이터 준비"
   ]
  },
  {
   "cell_type": "code",
   "execution_count": 1,
   "metadata": {},
   "outputs": [],
   "source": [
    "import pandas as pd\n",
    "import numpy as np\n",
    "import seaborn as sns\n",
    "from scipy.sparse import csr_matrix\n",
    "from implicit.als import AlternatingLeastSquares\n",
    "\n",
    "import os"
   ]
  },
  {
   "cell_type": "code",
   "execution_count": 2,
   "metadata": {},
   "outputs": [],
   "source": [
    "ratings = pd.read_csv('./data/movie_lens/ratings.csv')\n",
    "movies = pd.read_csv('./data/movie_lens/movies.csv')"
   ]
  },
  {
   "cell_type": "code",
   "execution_count": 3,
   "metadata": {},
   "outputs": [
    {
     "data": {
      "text/html": [
       "<div>\n",
       "<style scoped>\n",
       "    .dataframe tbody tr th:only-of-type {\n",
       "        vertical-align: middle;\n",
       "    }\n",
       "\n",
       "    .dataframe tbody tr th {\n",
       "        vertical-align: top;\n",
       "    }\n",
       "\n",
       "    .dataframe thead th {\n",
       "        text-align: right;\n",
       "    }\n",
       "</style>\n",
       "<table border=\"1\" class=\"dataframe\">\n",
       "  <thead>\n",
       "    <tr style=\"text-align: right;\">\n",
       "      <th></th>\n",
       "      <th>userId</th>\n",
       "      <th>movieId</th>\n",
       "      <th>rating</th>\n",
       "      <th>timestamp</th>\n",
       "    </tr>\n",
       "  </thead>\n",
       "  <tbody>\n",
       "    <tr>\n",
       "      <th>0</th>\n",
       "      <td>1</td>\n",
       "      <td>31</td>\n",
       "      <td>2.5</td>\n",
       "      <td>1260759144</td>\n",
       "    </tr>\n",
       "    <tr>\n",
       "      <th>1</th>\n",
       "      <td>1</td>\n",
       "      <td>1029</td>\n",
       "      <td>3.0</td>\n",
       "      <td>1260759179</td>\n",
       "    </tr>\n",
       "    <tr>\n",
       "      <th>2</th>\n",
       "      <td>1</td>\n",
       "      <td>1061</td>\n",
       "      <td>3.0</td>\n",
       "      <td>1260759182</td>\n",
       "    </tr>\n",
       "    <tr>\n",
       "      <th>3</th>\n",
       "      <td>1</td>\n",
       "      <td>1129</td>\n",
       "      <td>2.0</td>\n",
       "      <td>1260759185</td>\n",
       "    </tr>\n",
       "    <tr>\n",
       "      <th>4</th>\n",
       "      <td>1</td>\n",
       "      <td>1172</td>\n",
       "      <td>4.0</td>\n",
       "      <td>1260759205</td>\n",
       "    </tr>\n",
       "  </tbody>\n",
       "</table>\n",
       "</div>"
      ],
      "text/plain": [
       "   userId  movieId  rating   timestamp\n",
       "0       1       31     2.5  1260759144\n",
       "1       1     1029     3.0  1260759179\n",
       "2       1     1061     3.0  1260759182\n",
       "3       1     1129     2.0  1260759185\n",
       "4       1     1172     4.0  1260759205"
      ]
     },
     "execution_count": 3,
     "metadata": {},
     "output_type": "execute_result"
    }
   ],
   "source": [
    "ratings.head()"
   ]
  },
  {
   "cell_type": "code",
   "execution_count": 4,
   "metadata": {},
   "outputs": [
    {
     "data": {
      "text/html": [
       "<div>\n",
       "<style scoped>\n",
       "    .dataframe tbody tr th:only-of-type {\n",
       "        vertical-align: middle;\n",
       "    }\n",
       "\n",
       "    .dataframe tbody tr th {\n",
       "        vertical-align: top;\n",
       "    }\n",
       "\n",
       "    .dataframe thead th {\n",
       "        text-align: right;\n",
       "    }\n",
       "</style>\n",
       "<table border=\"1\" class=\"dataframe\">\n",
       "  <thead>\n",
       "    <tr style=\"text-align: right;\">\n",
       "      <th></th>\n",
       "      <th>movieId</th>\n",
       "      <th>title</th>\n",
       "      <th>genres</th>\n",
       "    </tr>\n",
       "  </thead>\n",
       "  <tbody>\n",
       "    <tr>\n",
       "      <th>0</th>\n",
       "      <td>1</td>\n",
       "      <td>Toy Story (1995)</td>\n",
       "      <td>Adventure|Animation|Children|Comedy|Fantasy</td>\n",
       "    </tr>\n",
       "    <tr>\n",
       "      <th>1</th>\n",
       "      <td>2</td>\n",
       "      <td>Jumanji (1995)</td>\n",
       "      <td>Adventure|Children|Fantasy</td>\n",
       "    </tr>\n",
       "    <tr>\n",
       "      <th>2</th>\n",
       "      <td>3</td>\n",
       "      <td>Grumpier Old Men (1995)</td>\n",
       "      <td>Comedy|Romance</td>\n",
       "    </tr>\n",
       "    <tr>\n",
       "      <th>3</th>\n",
       "      <td>4</td>\n",
       "      <td>Waiting to Exhale (1995)</td>\n",
       "      <td>Comedy|Drama|Romance</td>\n",
       "    </tr>\n",
       "    <tr>\n",
       "      <th>4</th>\n",
       "      <td>5</td>\n",
       "      <td>Father of the Bride Part II (1995)</td>\n",
       "      <td>Comedy</td>\n",
       "    </tr>\n",
       "  </tbody>\n",
       "</table>\n",
       "</div>"
      ],
      "text/plain": [
       "   movieId                               title  \\\n",
       "0        1                    Toy Story (1995)   \n",
       "1        2                      Jumanji (1995)   \n",
       "2        3             Grumpier Old Men (1995)   \n",
       "3        4            Waiting to Exhale (1995)   \n",
       "4        5  Father of the Bride Part II (1995)   \n",
       "\n",
       "                                        genres  \n",
       "0  Adventure|Animation|Children|Comedy|Fantasy  \n",
       "1                   Adventure|Children|Fantasy  \n",
       "2                               Comedy|Romance  \n",
       "3                         Comedy|Drama|Romance  \n",
       "4                                       Comedy  "
      ]
     },
     "execution_count": 4,
     "metadata": {},
     "output_type": "execute_result"
    }
   ],
   "source": [
    "movies.head()"
   ]
  },
  {
   "cell_type": "markdown",
   "metadata": {},
   "source": [
    "## 데이터 분석하기"
   ]
  },
  {
   "cell_type": "code",
   "execution_count": 5,
   "metadata": {},
   "outputs": [
    {
     "name": "stdout",
     "output_type": "stream",
     "text": [
      "ratings에 있는 유니크한 영화 개수: 9066\n",
      "ratings에 있는 유니크한 사용자 수: 671\n"
     ]
    }
   ],
   "source": [
    "ratings_movie = ratings['movieId'].nunique()\n",
    "ratings_user = ratings['userId'].nunique()\n",
    "print(f'ratings에 있는 유니크한 영화 개수: {ratings_movie}')\n",
    "print(f'ratings에 있는 유니크한 사용자 수: {ratings_user}')"
   ]
  },
  {
   "cell_type": "code",
   "execution_count": 6,
   "metadata": {},
   "outputs": [
    {
     "data": {
      "text/html": [
       "<div>\n",
       "<style scoped>\n",
       "    .dataframe tbody tr th:only-of-type {\n",
       "        vertical-align: middle;\n",
       "    }\n",
       "\n",
       "    .dataframe tbody tr th {\n",
       "        vertical-align: top;\n",
       "    }\n",
       "\n",
       "    .dataframe thead th {\n",
       "        text-align: right;\n",
       "    }\n",
       "</style>\n",
       "<table border=\"1\" class=\"dataframe\">\n",
       "  <thead>\n",
       "    <tr style=\"text-align: right;\">\n",
       "      <th></th>\n",
       "      <th>userId</th>\n",
       "      <th>movieId</th>\n",
       "      <th>rating</th>\n",
       "    </tr>\n",
       "  </thead>\n",
       "  <tbody>\n",
       "    <tr>\n",
       "      <th>0</th>\n",
       "      <td>1</td>\n",
       "      <td>31</td>\n",
       "      <td>2.5</td>\n",
       "    </tr>\n",
       "    <tr>\n",
       "      <th>1</th>\n",
       "      <td>1</td>\n",
       "      <td>1029</td>\n",
       "      <td>3.0</td>\n",
       "    </tr>\n",
       "    <tr>\n",
       "      <th>2</th>\n",
       "      <td>1</td>\n",
       "      <td>1061</td>\n",
       "      <td>3.0</td>\n",
       "    </tr>\n",
       "    <tr>\n",
       "      <th>3</th>\n",
       "      <td>1</td>\n",
       "      <td>1129</td>\n",
       "      <td>2.0</td>\n",
       "    </tr>\n",
       "    <tr>\n",
       "      <th>4</th>\n",
       "      <td>1</td>\n",
       "      <td>1172</td>\n",
       "      <td>4.0</td>\n",
       "    </tr>\n",
       "  </tbody>\n",
       "</table>\n",
       "</div>"
      ],
      "text/plain": [
       "   userId  movieId  rating\n",
       "0       1       31     2.5\n",
       "1       1     1029     3.0\n",
       "2       1     1061     3.0\n",
       "3       1     1129     2.0\n",
       "4       1     1172     4.0"
      ]
     },
     "execution_count": 6,
     "metadata": {},
     "output_type": "execute_result"
    }
   ],
   "source": [
    "ratings.drop('timestamp', axis=1, inplace=True)\n",
    "ratings.head()"
   ]
  },
  {
   "cell_type": "code",
   "execution_count": 7,
   "metadata": {},
   "outputs": [
    {
     "data": {
      "text/html": [
       "<div>\n",
       "<style scoped>\n",
       "    .dataframe tbody tr th:only-of-type {\n",
       "        vertical-align: middle;\n",
       "    }\n",
       "\n",
       "    .dataframe tbody tr th {\n",
       "        vertical-align: top;\n",
       "    }\n",
       "\n",
       "    .dataframe thead th {\n",
       "        text-align: right;\n",
       "    }\n",
       "</style>\n",
       "<table border=\"1\" class=\"dataframe\">\n",
       "  <thead>\n",
       "    <tr style=\"text-align: right;\">\n",
       "      <th></th>\n",
       "      <th>movieId</th>\n",
       "      <th>title</th>\n",
       "    </tr>\n",
       "  </thead>\n",
       "  <tbody>\n",
       "    <tr>\n",
       "      <th>0</th>\n",
       "      <td>1</td>\n",
       "      <td>Toy Story (1995)</td>\n",
       "    </tr>\n",
       "    <tr>\n",
       "      <th>1</th>\n",
       "      <td>2</td>\n",
       "      <td>Jumanji (1995)</td>\n",
       "    </tr>\n",
       "    <tr>\n",
       "      <th>2</th>\n",
       "      <td>3</td>\n",
       "      <td>Grumpier Old Men (1995)</td>\n",
       "    </tr>\n",
       "    <tr>\n",
       "      <th>3</th>\n",
       "      <td>4</td>\n",
       "      <td>Waiting to Exhale (1995)</td>\n",
       "    </tr>\n",
       "    <tr>\n",
       "      <th>4</th>\n",
       "      <td>5</td>\n",
       "      <td>Father of the Bride Part II (1995)</td>\n",
       "    </tr>\n",
       "  </tbody>\n",
       "</table>\n",
       "</div>"
      ],
      "text/plain": [
       "   movieId                               title\n",
       "0        1                    Toy Story (1995)\n",
       "1        2                      Jumanji (1995)\n",
       "2        3             Grumpier Old Men (1995)\n",
       "3        4            Waiting to Exhale (1995)\n",
       "4        5  Father of the Bride Part II (1995)"
      ]
     },
     "execution_count": 7,
     "metadata": {},
     "output_type": "execute_result"
    }
   ],
   "source": [
    "movies.drop('genres', axis = 1, inplace=True)\n",
    "movies.head()"
   ]
  },
  {
   "cell_type": "code",
   "execution_count": 8,
   "metadata": {},
   "outputs": [
    {
     "data": {
      "text/html": [
       "<div>\n",
       "<style scoped>\n",
       "    .dataframe tbody tr th:only-of-type {\n",
       "        vertical-align: middle;\n",
       "    }\n",
       "\n",
       "    .dataframe tbody tr th {\n",
       "        vertical-align: top;\n",
       "    }\n",
       "\n",
       "    .dataframe thead th {\n",
       "        text-align: right;\n",
       "    }\n",
       "</style>\n",
       "<table border=\"1\" class=\"dataframe\">\n",
       "  <thead>\n",
       "    <tr style=\"text-align: right;\">\n",
       "      <th></th>\n",
       "      <th>userId</th>\n",
       "      <th>rating</th>\n",
       "      <th>title</th>\n",
       "    </tr>\n",
       "  </thead>\n",
       "  <tbody>\n",
       "    <tr>\n",
       "      <th>0</th>\n",
       "      <td>1</td>\n",
       "      <td>2.5</td>\n",
       "      <td>Dangerous Minds (1995)</td>\n",
       "    </tr>\n",
       "    <tr>\n",
       "      <th>1</th>\n",
       "      <td>7</td>\n",
       "      <td>3.0</td>\n",
       "      <td>Dangerous Minds (1995)</td>\n",
       "    </tr>\n",
       "    <tr>\n",
       "      <th>2</th>\n",
       "      <td>31</td>\n",
       "      <td>4.0</td>\n",
       "      <td>Dangerous Minds (1995)</td>\n",
       "    </tr>\n",
       "    <tr>\n",
       "      <th>3</th>\n",
       "      <td>32</td>\n",
       "      <td>4.0</td>\n",
       "      <td>Dangerous Minds (1995)</td>\n",
       "    </tr>\n",
       "    <tr>\n",
       "      <th>4</th>\n",
       "      <td>36</td>\n",
       "      <td>3.0</td>\n",
       "      <td>Dangerous Minds (1995)</td>\n",
       "    </tr>\n",
       "  </tbody>\n",
       "</table>\n",
       "</div>"
      ],
      "text/plain": [
       "   userId  rating                   title\n",
       "0       1     2.5  Dangerous Minds (1995)\n",
       "1       7     3.0  Dangerous Minds (1995)\n",
       "2      31     4.0  Dangerous Minds (1995)\n",
       "3      32     4.0  Dangerous Minds (1995)\n",
       "4      36     3.0  Dangerous Minds (1995)"
      ]
     },
     "execution_count": 8,
     "metadata": {},
     "output_type": "execute_result"
    }
   ],
   "source": [
    "# movies와 ratings를 합쳐준다.\n",
    "data= pd.merge(ratings, movies, on = 'movieId')\n",
    "data.drop('movieId', axis = 1, inplace=True)\n",
    "data.head(5)"
   ]
  },
  {
   "cell_type": "code",
   "execution_count": 9,
   "metadata": {},
   "outputs": [
    {
     "data": {
      "text/plain": [
       "title\n",
       "forrest gump (1994)                          341\n",
       "pulp fiction (1994)                          324\n",
       "shawshank redemption, the (1994)             311\n",
       "silence of the lambs, the (1991)             304\n",
       "star wars: episode iv - a new hope (1977)    291\n",
       "jurassic park (1993)                         274\n",
       "matrix, the (1999)                           259\n",
       "toy story (1995)                             247\n",
       "schindler's list (1993)                      244\n",
       "terminator 2: judgment day (1991)            237\n",
       "Name: userId, dtype: int64"
      ]
     },
     "execution_count": 9,
     "metadata": {},
     "output_type": "execute_result"
    }
   ],
   "source": [
    "#가장 인기있는 영화 30개(인기순)\n",
    "data['title'] = data['title'].str.lower()\n",
    "movies_count = data.groupby('title')['userId'].count()\n",
    "movies_count.sort_values(ascending=False).head(10)"
   ]
  },
  {
   "cell_type": "code",
   "execution_count": 10,
   "metadata": {},
   "outputs": [
    {
     "data": {
      "text/plain": [
       "count     671.000000\n",
       "mean      149.037258\n",
       "std       231.226948\n",
       "min        20.000000\n",
       "25%        37.000000\n",
       "50%        71.000000\n",
       "75%       161.000000\n",
       "max      2391.000000\n",
       "Name: title, dtype: float64"
      ]
     },
     "execution_count": 10,
     "metadata": {},
     "output_type": "execute_result"
    }
   ],
   "source": [
    "# 유저별 몇 편의 영화를 보고 있는지에 대한 통계\n",
    "user_count = data.groupby('userId')['title'].count()\n",
    "user_count.describe()"
   ]
  },
  {
   "cell_type": "markdown",
   "metadata": {},
   "source": [
    "## 내가 선호하는 영화 추가하기"
   ]
  },
  {
   "cell_type": "code",
   "execution_count": 11,
   "metadata": {},
   "outputs": [
    {
     "data": {
      "text/html": [
       "<div>\n",
       "<style scoped>\n",
       "    .dataframe tbody tr th:only-of-type {\n",
       "        vertical-align: middle;\n",
       "    }\n",
       "\n",
       "    .dataframe tbody tr th {\n",
       "        vertical-align: top;\n",
       "    }\n",
       "\n",
       "    .dataframe thead th {\n",
       "        text-align: right;\n",
       "    }\n",
       "</style>\n",
       "<table border=\"1\" class=\"dataframe\">\n",
       "  <thead>\n",
       "    <tr style=\"text-align: right;\">\n",
       "      <th></th>\n",
       "      <th>rating</th>\n",
       "      <th>title</th>\n",
       "      <th>userId</th>\n",
       "    </tr>\n",
       "  </thead>\n",
       "  <tbody>\n",
       "    <tr>\n",
       "      <th>0</th>\n",
       "      <td>5.0</td>\n",
       "      <td>men in black (1997)</td>\n",
       "      <td>0</td>\n",
       "    </tr>\n",
       "    <tr>\n",
       "      <th>1</th>\n",
       "      <td>5.0</td>\n",
       "      <td>fugitive, the (1993)</td>\n",
       "      <td>0</td>\n",
       "    </tr>\n",
       "    <tr>\n",
       "      <th>2</th>\n",
       "      <td>5.0</td>\n",
       "      <td>terminator, the (1984)</td>\n",
       "      <td>0</td>\n",
       "    </tr>\n",
       "    <tr>\n",
       "      <th>3</th>\n",
       "      <td>5.0</td>\n",
       "      <td>star wars: episode vi - return of the jedi (1983)</td>\n",
       "      <td>0</td>\n",
       "    </tr>\n",
       "    <tr>\n",
       "      <th>4</th>\n",
       "      <td>5.0</td>\n",
       "      <td>terminator 2: judgment day (1991)</td>\n",
       "      <td>0</td>\n",
       "    </tr>\n",
       "    <tr>\n",
       "      <th>5</th>\n",
       "      <td>2.5</td>\n",
       "      <td>dangerous minds (1995)</td>\n",
       "      <td>1</td>\n",
       "    </tr>\n",
       "    <tr>\n",
       "      <th>6</th>\n",
       "      <td>3.0</td>\n",
       "      <td>dangerous minds (1995)</td>\n",
       "      <td>7</td>\n",
       "    </tr>\n",
       "    <tr>\n",
       "      <th>7</th>\n",
       "      <td>4.0</td>\n",
       "      <td>dangerous minds (1995)</td>\n",
       "      <td>31</td>\n",
       "    </tr>\n",
       "    <tr>\n",
       "      <th>8</th>\n",
       "      <td>4.0</td>\n",
       "      <td>dangerous minds (1995)</td>\n",
       "      <td>32</td>\n",
       "    </tr>\n",
       "    <tr>\n",
       "      <th>9</th>\n",
       "      <td>3.0</td>\n",
       "      <td>dangerous minds (1995)</td>\n",
       "      <td>36</td>\n",
       "    </tr>\n",
       "  </tbody>\n",
       "</table>\n",
       "</div>"
      ],
      "text/plain": [
       "   rating                                              title userId\n",
       "0     5.0                                men in black (1997)      0\n",
       "1     5.0                               fugitive, the (1993)      0\n",
       "2     5.0                             terminator, the (1984)      0\n",
       "3     5.0  star wars: episode vi - return of the jedi (1983)      0\n",
       "4     5.0                  terminator 2: judgment day (1991)      0\n",
       "5     2.5                             dangerous minds (1995)      1\n",
       "6     3.0                             dangerous minds (1995)      7\n",
       "7     4.0                             dangerous minds (1995)     31\n",
       "8     4.0                             dangerous minds (1995)     32\n",
       "9     3.0                             dangerous minds (1995)     36"
      ]
     },
     "execution_count": 11,
     "metadata": {},
     "output_type": "execute_result"
    }
   ],
   "source": [
    "my_favor_movie = ['men in black (1997)'\n",
    "                  , 'fugitive, the (1993)' \n",
    "                  ,'terminator, the (1984)' \n",
    "                  ,'star wars: episode vi - return of the jedi (1983)' \n",
    "                  ,'terminator 2: judgment day (1991)']\n",
    "my_playlist = pd.DataFrame({'userId': ['0']*5, 'rating':[5]*5, 'title': my_favor_movie})\n",
    "\n",
    "data = pd.concat([my_playlist, data], sort=True).reset_index(drop=True)    \n",
    "data.head(10)"
   ]
  },
  {
   "cell_type": "markdown",
   "metadata": {},
   "source": [
    "선호 데이터가 추가된 모습을 볼 수 있습니다."
   ]
  },
  {
   "cell_type": "markdown",
   "metadata": {},
   "source": [
    "## 전처리하기"
   ]
  },
  {
   "cell_type": "code",
   "execution_count": 12,
   "metadata": {},
   "outputs": [
    {
     "name": "stdout",
     "output_type": "stream",
     "text": [
      "kimin의 index 번호: 0\n",
      "forrest gump 의 index 번호: 62\n"
     ]
    }
   ],
   "source": [
    "user_unique = data['userId'].unique()\n",
    "title_unique = data['title'].unique()\n",
    "\n",
    "user_to_idx = {v:k for k,v in enumerate(user_unique)}\n",
    "title_to_idx = {v:k for k,v in enumerate(title_unique)}\n",
    "\n",
    "print('kimin의 index 번호:', user_to_idx['0']) \n",
    "print('forrest gump 의 index 번호:', title_to_idx['forrest gump (1994)'])"
   ]
  },
  {
   "cell_type": "markdown",
   "metadata": {},
   "source": [
    "내가 선호하는 영화가 잘 추가 됐는지 확인합니다."
   ]
  },
  {
   "cell_type": "code",
   "execution_count": 13,
   "metadata": {
    "scrolled": true
   },
   "outputs": [
    {
     "data": {
      "text/html": [
       "<div>\n",
       "<style scoped>\n",
       "    .dataframe tbody tr th:only-of-type {\n",
       "        vertical-align: middle;\n",
       "    }\n",
       "\n",
       "    .dataframe tbody tr th {\n",
       "        vertical-align: top;\n",
       "    }\n",
       "\n",
       "    .dataframe thead th {\n",
       "        text-align: right;\n",
       "    }\n",
       "</style>\n",
       "<table border=\"1\" class=\"dataframe\">\n",
       "  <thead>\n",
       "    <tr style=\"text-align: right;\">\n",
       "      <th></th>\n",
       "      <th>rating</th>\n",
       "      <th>title</th>\n",
       "      <th>userId</th>\n",
       "    </tr>\n",
       "  </thead>\n",
       "  <tbody>\n",
       "    <tr>\n",
       "      <th>0</th>\n",
       "      <td>5.0</td>\n",
       "      <td>0</td>\n",
       "      <td>0</td>\n",
       "    </tr>\n",
       "    <tr>\n",
       "      <th>1</th>\n",
       "      <td>5.0</td>\n",
       "      <td>1</td>\n",
       "      <td>0</td>\n",
       "    </tr>\n",
       "    <tr>\n",
       "      <th>2</th>\n",
       "      <td>5.0</td>\n",
       "      <td>2</td>\n",
       "      <td>0</td>\n",
       "    </tr>\n",
       "    <tr>\n",
       "      <th>3</th>\n",
       "      <td>5.0</td>\n",
       "      <td>3</td>\n",
       "      <td>0</td>\n",
       "    </tr>\n",
       "    <tr>\n",
       "      <th>4</th>\n",
       "      <td>5.0</td>\n",
       "      <td>4</td>\n",
       "      <td>0</td>\n",
       "    </tr>\n",
       "    <tr>\n",
       "      <th>...</th>\n",
       "      <td>...</td>\n",
       "      <td>...</td>\n",
       "      <td>...</td>\n",
       "    </tr>\n",
       "    <tr>\n",
       "      <th>100004</th>\n",
       "      <td>2.5</td>\n",
       "      <td>1460</td>\n",
       "      <td>213</td>\n",
       "    </tr>\n",
       "    <tr>\n",
       "      <th>100005</th>\n",
       "      <td>3.5</td>\n",
       "      <td>9061</td>\n",
       "      <td>213</td>\n",
       "    </tr>\n",
       "    <tr>\n",
       "      <th>100006</th>\n",
       "      <td>3.0</td>\n",
       "      <td>9062</td>\n",
       "      <td>78</td>\n",
       "    </tr>\n",
       "    <tr>\n",
       "      <th>100007</th>\n",
       "      <td>1.0</td>\n",
       "      <td>9063</td>\n",
       "      <td>78</td>\n",
       "    </tr>\n",
       "    <tr>\n",
       "      <th>100008</th>\n",
       "      <td>1.0</td>\n",
       "      <td>9064</td>\n",
       "      <td>569</td>\n",
       "    </tr>\n",
       "  </tbody>\n",
       "</table>\n",
       "<p>100009 rows × 3 columns</p>\n",
       "</div>"
      ],
      "text/plain": [
       "        rating  title  userId\n",
       "0          5.0      0       0\n",
       "1          5.0      1       0\n",
       "2          5.0      2       0\n",
       "3          5.0      3       0\n",
       "4          5.0      4       0\n",
       "...        ...    ...     ...\n",
       "100004     2.5   1460     213\n",
       "100005     3.5   9061     213\n",
       "100006     3.0   9062      78\n",
       "100007     1.0   9063      78\n",
       "100008     1.0   9064     569\n",
       "\n",
       "[100009 rows x 3 columns]"
      ]
     },
     "execution_count": 13,
     "metadata": {},
     "output_type": "execute_result"
    }
   ],
   "source": [
    "temp_user_data = data['userId'].map(user_to_idx.get).dropna()\n",
    "\n",
    "temp_title_data = data['title'].map(title_to_idx.get).dropna()\n",
    "\n",
    "if len(temp_user_data) == len(data):   # 모든 row가 정상적으로 인덱싱되었다면 실행\n",
    "    data['userId'] = temp_user_data \n",
    "\n",
    "if len(temp_title_data) == len(data):\n",
    "    data['title'] = temp_title_data\n",
    "\n",
    "data"
   ]
  },
  {
   "cell_type": "markdown",
   "metadata": {},
   "source": [
    "CSR matrix를 만들기 전에, user id와 title을 인덱스로 변경해줍니다. "
   ]
  },
  {
   "cell_type": "markdown",
   "metadata": {},
   "source": [
    "## CSR matrix 만들기"
   ]
  },
  {
   "cell_type": "code",
   "execution_count": 14,
   "metadata": {},
   "outputs": [
    {
     "name": "stdout",
     "output_type": "stream",
     "text": [
      "0         5.0\n",
      "1         5.0\n",
      "2         5.0\n",
      "3         5.0\n",
      "4         5.0\n",
      "         ... \n",
      "100004    2.5\n",
      "100005    3.5\n",
      "100006    3.0\n",
      "100007    1.0\n",
      "100008    1.0\n",
      "Name: rating, Length: 100009, dtype: float64\n"
     ]
    }
   ],
   "source": [
    "data['rating']\n",
    "print(data.rating)"
   ]
  },
  {
   "cell_type": "code",
   "execution_count": 15,
   "metadata": {},
   "outputs": [
    {
     "data": {
      "text/plain": [
       "<672x9065 sparse matrix of type '<class 'numpy.float64'>'\n",
       "\twith 100008 stored elements in Compressed Sparse Row format>"
      ]
     },
     "execution_count": 15,
     "metadata": {},
     "output_type": "execute_result"
    }
   ],
   "source": [
    "num_user = data['userId'].nunique()\n",
    "num_movie = data['title'].nunique()\n",
    "\n",
    "csr_data = csr_matrix((data.rating, (data.userId, data.title)), \n",
    "                      shape=(num_user, num_movie))\n",
    "csr_data"
   ]
  },
  {
   "cell_type": "markdown",
   "metadata": {},
   "source": [
    "##  AlternatingLeastSquares 모델"
   ]
  },
  {
   "cell_type": "code",
   "execution_count": 16,
   "metadata": {},
   "outputs": [],
   "source": [
    "# implicit 라이브러리에서 권장하고 있는 부분입니다. 학습 내용과는 무관합니다.\n",
    "os.environ['OPENBLAS_NUM_THREADS']='1'\n",
    "os.environ['KMP_DUPLICATE_LIB_OK']='True'\n",
    "os.environ['MKL_NUM_THREADS']='1'"
   ]
  },
  {
   "cell_type": "code",
   "execution_count": 17,
   "metadata": {},
   "outputs": [
    {
     "data": {
      "application/vnd.jupyter.widget-view+json": {
       "model_id": "687162c86bfc42d980f0cdeb062fdc62",
       "version_major": 2,
       "version_minor": 0
      },
      "text/plain": [
       "HBox(children=(HTML(value=''), FloatProgress(value=0.0, max=30.0), HTML(value='')))"
      ]
     },
     "metadata": {},
     "output_type": "display_data"
    },
    {
     "name": "stdout",
     "output_type": "stream",
     "text": [
      "\n"
     ]
    }
   ],
   "source": [
    "als_model = AlternatingLeastSquares(factors=100, regularization=0.01, \n",
    "                                   iterations=30, dtype=np.float32)\n",
    "csr_data_transpose = csr_data.T\n",
    "als_model.fit(csr_data_transpose)"
   ]
  },
  {
   "cell_type": "code",
   "execution_count": 18,
   "metadata": {},
   "outputs": [],
   "source": [
    "kimin, die_hard = user_to_idx['0'], title_to_idx['die hard (1988)']\n",
    "kimin_vector, die_hard_vector = als_model.user_factors[kimin], als_model.item_factors[die_hard]"
   ]
  },
  {
   "cell_type": "code",
   "execution_count": 19,
   "metadata": {},
   "outputs": [
    {
     "data": {
      "text/plain": [
       "array([-7.49779493e-02,  1.78338170e-01,  9.81864929e-02,  2.46803194e-01,\n",
       "       -2.62321949e-01, -1.36777952e-01,  1.45235509e-01, -8.76451358e-02,\n",
       "       -8.69406164e-02,  4.28637236e-01,  2.27460623e-01,  4.67960328e-01,\n",
       "       -2.82364994e-01, -4.68048722e-01,  1.14705488e-01,  1.86903462e-01,\n",
       "       -2.36493886e-01, -2.42668718e-01,  4.48053814e-02,  7.50174047e-03,\n",
       "       -5.27423024e-02, -1.66138083e-01, -2.74246167e-02,  2.77099043e-01,\n",
       "        3.89506621e-03,  1.56279907e-01, -1.96906060e-01,  2.38507584e-01,\n",
       "        2.25634038e-01,  4.17619795e-01, -1.39897645e-01,  2.19494924e-01,\n",
       "       -2.11697549e-01, -2.53737479e-01, -2.01079458e-01,  1.15843847e-01,\n",
       "       -1.81851014e-01, -7.17751443e-01,  1.04431741e-01, -2.15486288e-02,\n",
       "        3.18315029e-01,  3.55931674e-03,  2.82633543e-01,  1.38362527e-01,\n",
       "       -2.59710588e-02, -3.68795216e-01, -1.96005806e-01, -2.51703143e-01,\n",
       "       -4.27017512e-04, -2.94784643e-02,  2.81476676e-01, -3.90900135e-01,\n",
       "       -6.08405247e-02,  1.94578022e-01,  3.39903414e-01,  3.99674743e-01,\n",
       "        1.62461892e-01,  1.09712951e-01, -2.46491060e-01, -3.16467583e-01,\n",
       "        7.34397620e-02, -5.73767871e-02, -1.10393189e-01, -1.16942696e-01,\n",
       "       -2.21191511e-01, -4.68522996e-01,  1.02108922e-02, -1.28317237e-01,\n",
       "       -1.71095923e-01, -1.61427557e-01,  3.30716640e-01,  1.96706280e-02,\n",
       "       -9.73222405e-02, -1.61453113e-02,  4.26070333e-01, -2.66377300e-01,\n",
       "        8.60478953e-02,  3.56119722e-01,  9.01293531e-02, -2.90799886e-01,\n",
       "       -2.21664459e-01,  3.27939898e-01,  1.02976546e-01,  4.56877857e-01,\n",
       "       -2.95852154e-01,  1.31909639e-01,  2.24574849e-01,  1.15695447e-01,\n",
       "       -6.99935257e-02,  2.16470748e-01,  4.01224196e-01, -8.09889808e-02,\n",
       "        3.60443108e-02, -2.06356615e-01, -2.43362784e-01,  4.09881026e-01,\n",
       "       -2.13483915e-01, -7.88818970e-02,  5.70570409e-01, -3.67760986e-01],\n",
       "      dtype=float32)"
      ]
     },
     "execution_count": 19,
     "metadata": {},
     "output_type": "execute_result"
    }
   ],
   "source": [
    "kimin_vector"
   ]
  },
  {
   "cell_type": "markdown",
   "metadata": {},
   "source": [
    "내가 선호하는 영화에 따라 user의 특징을 나타내는 벡터가 생성되었습니다. "
   ]
  },
  {
   "cell_type": "code",
   "execution_count": 20,
   "metadata": {},
   "outputs": [
    {
     "data": {
      "text/plain": [
       "array([ 0.00361545,  0.0376028 ,  0.01031397,  0.04850543, -0.01299863,\n",
       "        0.01347434,  0.00166487, -0.0228728 , -0.02781936,  0.03329022,\n",
       "        0.01451709,  0.02552956,  0.02384741, -0.00893693,  0.03731588,\n",
       "       -0.03966041, -0.05437039, -0.0247719 , -0.03278617, -0.00826715,\n",
       "        0.02049851,  0.00877084, -0.01022084,  0.03746725, -0.00570133,\n",
       "        0.03435934,  0.02821262,  0.00874103, -0.01561256,  0.03459564,\n",
       "       -0.00781782, -0.01273238, -0.01081162, -0.0219006 , -0.01813494,\n",
       "        0.02310316, -0.03148777,  0.00365834, -0.03520845,  0.02139181,\n",
       "        0.0160508 , -0.00556455,  0.00780175,  0.02663171,  0.00018574,\n",
       "       -0.00542944,  0.00040563, -0.04733204,  0.02365248,  0.04402654,\n",
       "        0.04754265, -0.04117234, -0.03610666, -0.00617777,  0.023834  ,\n",
       "        0.0232125 , -0.02084619,  0.02945786, -0.02073666, -0.06728745,\n",
       "        0.00581193,  0.00641899,  0.0016074 , -0.00251132, -0.0236092 ,\n",
       "       -0.02495179,  0.01650328,  0.01236798,  0.03303682, -0.00868704,\n",
       "       -0.02297215, -0.01392736,  0.02623107,  0.00212833,  0.03014589,\n",
       "       -0.02278934,  0.00550765,  0.02416447, -0.00089675,  0.03190222,\n",
       "       -0.02819954,  0.01359628,  0.0605048 ,  0.02716811,  0.00069232,\n",
       "       -0.03819504,  0.04711481, -0.01537931, -0.03509173,  0.02170088,\n",
       "        0.04111001,  0.01353819,  0.07877008, -0.00321073, -0.05466144,\n",
       "        0.07263813, -0.02518436, -0.00242216,  0.0307371 ,  0.02002182],\n",
       "      dtype=float32)"
      ]
     },
     "execution_count": 20,
     "metadata": {},
     "output_type": "execute_result"
    }
   ],
   "source": [
    "die_hard_vector"
   ]
  },
  {
   "cell_type": "markdown",
   "metadata": {},
   "source": [
    "마찬가지로 각각 영화를 특성을 나타내는 벡터가 생성되었습니다. "
   ]
  },
  {
   "cell_type": "code",
   "execution_count": 22,
   "metadata": {},
   "outputs": [
    {
     "data": {
      "text/plain": [
       "0.33416337"
      ]
     },
     "execution_count": 22,
     "metadata": {},
     "output_type": "execute_result"
    }
   ],
   "source": [
    "np.dot(kimin_vector, die_hard_vector)"
   ]
  },
  {
   "cell_type": "markdown",
   "metadata": {},
   "source": [
    "kimin이 다이 하드를 선호하는 점수는 0.33이 됩니다."
   ]
  },
  {
   "cell_type": "code",
   "execution_count": 23,
   "metadata": {},
   "outputs": [
    {
     "data": {
      "text/plain": [
       "0.0942103"
      ]
     },
     "execution_count": 23,
     "metadata": {},
     "output_type": "execute_result"
    }
   ],
   "source": [
    "toy = title_to_idx['toy story (1995)']\n",
    "toy_vector = als_model.item_factors[toy]\n",
    "np.dot(kimin_vector, toy_vector)"
   ]
  },
  {
   "cell_type": "markdown",
   "metadata": {},
   "source": [
    "토이스토리의 선호점수는 0.09으로 다이 하드에 비해서는 현저히 낮은 점수입니다."
   ]
  },
  {
   "cell_type": "markdown",
   "metadata": {},
   "source": [
    "## 영화 추천받기"
   ]
  },
  {
   "cell_type": "code",
   "execution_count": 24,
   "metadata": {},
   "outputs": [],
   "source": [
    "idx_to_title = {v:k for k,v in title_to_idx.items()}\n",
    "\n",
    "def get_similar_title(title_name: str):\n",
    "    title_id = title_to_idx[title_name]\n",
    "    similar_title = als_model.similar_items(title_id)\n",
    "    similar_title = [idx_to_title[i[0]] for i in similar_title[1:]]\n",
    "    return similar_title"
   ]
  },
  {
   "cell_type": "markdown",
   "metadata": {},
   "source": [
    "선호 점수를 기반으로 선호 영화와 비슷한 영화를 추천받는 함수를 만들어 보겠습니다. 여기서 선호 영화는 제외합니다."
   ]
  },
  {
   "cell_type": "code",
   "execution_count": 25,
   "metadata": {},
   "outputs": [
    {
     "data": {
      "text/plain": [
       "['terminator, the (1984)',\n",
       " 'terminator 2: judgment day (1991)',\n",
       " 'fugitive, the (1993)',\n",
       " 'star wars: episode vi - return of the jedi (1983)',\n",
       " 'jurassic park (1993)',\n",
       " 'die hard (1988)',\n",
       " 'rare birds (2001)',\n",
       " 'four days in september (o que é isso, companheiro?) (1997)',\n",
       " 'heaven (2002)']"
      ]
     },
     "execution_count": 25,
     "metadata": {},
     "output_type": "execute_result"
    }
   ],
   "source": [
    "get_similar_title('men in black (1997)')"
   ]
  },
  {
   "cell_type": "code",
   "execution_count": 26,
   "metadata": {},
   "outputs": [
    {
     "data": {
      "text/plain": [
       "['independence day (a.k.a. id4) (1996)',\n",
       " 'monsters, inc. (2001)',\n",
       " 'toy story 2 (1999)',\n",
       " 'magic mike xxl (2015)',\n",
       " 'aloha (2015)',\n",
       " 'survivor (2015)',\n",
       " \"i'll see you in my dreams (2015)\",\n",
       " '7 days in hell (2015)',\n",
       " 'entourage (2015)']"
      ]
     },
     "execution_count": 26,
     "metadata": {},
     "output_type": "execute_result"
    }
   ],
   "source": [
    "get_similar_title('toy story (1995)')"
   ]
  },
  {
   "cell_type": "code",
   "execution_count": 27,
   "metadata": {},
   "outputs": [
    {
     "data": {
      "text/plain": [
       "['forrest gump (1994)',\n",
       " 'star wars: episode v - the empire strikes back (1980)',\n",
       " 'raiders of the lost ark (indiana jones and the raiders of the lost ark) (1981)',\n",
       " 'ghostbusters (a.k.a. ghost busters) (1984)',\n",
       " 'matrix, the (1999)',\n",
       " 'terminator, the (1984)',\n",
       " 'star wars: episode vi - return of the jedi (1983)',\n",
       " 'star wars: episode iv - a new hope (1977)',\n",
       " 'magic mike xxl (2015)']"
      ]
     },
     "execution_count": 27,
     "metadata": {},
     "output_type": "execute_result"
    }
   ],
   "source": [
    "get_similar_title('back to the future (1985)')"
   ]
  },
  {
   "cell_type": "code",
   "execution_count": 28,
   "metadata": {},
   "outputs": [
    {
     "name": "stdout",
     "output_type": "stream",
     "text": [
      "jurassic park (1993) 0.437\n",
      "star wars: episode v - the empire strikes back (1980) 0.340\n",
      "die hard (1988) 0.334\n",
      "braveheart (1995) 0.324\n",
      "forrest gump (1994) 0.317\n",
      "raiders of the lost ark (indiana jones and the raiders of the lost ark) (1981) 0.316\n",
      "star wars: episode iv - a new hope (1977) 0.315\n",
      "true lies (1994) 0.302\n",
      "back to the future (1985) 0.297\n",
      "indiana jones and the last crusade (1989) 0.220\n",
      "matrix, the (1999) 0.200\n",
      "e.t. the extra-terrestrial (1982) 0.199\n",
      "silence of the lambs, the (1991) 0.193\n",
      "men in black (a.k.a. mib) (1997) 0.193\n",
      "dances with wolves (1990) 0.177\n",
      "aliens (1986) 0.176\n",
      "independence day (a.k.a. id4) (1996) 0.160\n",
      "speed (1994) 0.150\n",
      "alien (1979) 0.147\n",
      "saving private ryan (1998) 0.146\n"
     ]
    }
   ],
   "source": [
    "user = user_to_idx['0']\n",
    "# recommend에서는 user*item CSR Matrix를 받습니다.\n",
    "title_recommended = als_model.recommend(user, csr_data, N=20, filter_already_liked_items=True)\n",
    "for i in title_recommended: \n",
    "    print(\"{} {:0.3f}\".format(idx_to_title[i[0]], i[1]))"
   ]
  },
  {
   "cell_type": "markdown",
   "metadata": {},
   "source": [
    "## Summary"
   ]
  },
  {
   "cell_type": "markdown",
   "metadata": {},
   "source": [
    "위에서 평점을 5점 준 데이터들은 아래와 같았습니다. \n",
    "- 'men in black (1997)' \n",
    "- 'fugitive, the (1993)'\n",
    "- 'terminator, the (1984)'\n",
    "- 'star wars: episode vi - return of the jedi (1983)'\n",
    "- 'terminator 2: judgment day (1991)'\n",
    "추천된 영화에서 액션과 관련된 영화가 많이 보이는 것 같습니다. "
   ]
  }
 ],
 "metadata": {
  "kernelspec": {
   "display_name": "aiffel",
   "language": "python",
   "name": "aiffel"
  },
  "language_info": {
   "codemirror_mode": {
    "name": "ipython",
    "version": 3
   },
   "file_extension": ".py",
   "mimetype": "text/x-python",
   "name": "python",
   "nbconvert_exporter": "python",
   "pygments_lexer": "ipython3",
   "version": "3.7.6"
  }
 },
 "nbformat": 4,
 "nbformat_minor": 4
}
